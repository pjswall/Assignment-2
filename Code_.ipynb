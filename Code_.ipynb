{
 "cells": [
  {
   "cell_type": "code",
   "execution_count": 3,
   "metadata": {},
   "outputs": [
    {
     "name": "stdout",
     "output_type": "stream",
     "text": [
      "Pleasantness Ratings    0.779694\n",
      "Unnamed: 1              2.643780\n",
      "Unnamed: 2              2.053171\n",
      "Unnamed: 3              1.601292\n",
      "Unnamed: 4              1.304256\n",
      "Unnamed: 5              2.090548\n",
      "Unnamed: 6              1.831086\n",
      "Unnamed: 7              2.185783\n",
      "Unnamed: 8              2.995813\n",
      "Unnamed: 9              2.365022\n",
      "Unnamed: 10             2.384706\n",
      "Unnamed: 11             2.500125\n",
      "Unnamed: 12             1.908870\n",
      "Unnamed: 13             2.518472\n",
      "Unnamed: 14             1.969429\n",
      "Unnamed: 15             1.308247\n",
      "Unnamed: 16             2.084155\n",
      "Unnamed: 17             1.748322\n",
      "Unnamed: 18             1.811579\n",
      "Unnamed: 19             1.979229\n",
      "Unnamed: 20             1.371125\n",
      "Unnamed: 21             1.303393\n",
      "Unnamed: 22             1.855946\n",
      "Unnamed: 23             1.705019\n",
      "Unnamed: 24             1.723991\n",
      "Unnamed: 25             2.216851\n",
      "Unnamed: 26             1.492712\n",
      "Unnamed: 27             2.309082\n",
      "Unnamed: 28             1.851087\n",
      "Unnamed: 29             2.729140\n",
      "dtype: float64\n"
     ]
    }
   ],
   "source": [
    "import pandas as pd \n",
    "df = pd.read_excel('./Likert Scale Ratings.xlsx')\n",
    "# print(df.mean())\n",
    "print(df.std())\n"
   ]
  },
  {
   "cell_type": "code",
   "execution_count": 1,
   "metadata": {},
   "outputs": [
    {
     "data": {
      "text/html": [
       "<div>\n",
       "<style scoped>\n",
       "    .dataframe tbody tr th:only-of-type {\n",
       "        vertical-align: middle;\n",
       "    }\n",
       "\n",
       "    .dataframe tbody tr th {\n",
       "        vertical-align: top;\n",
       "    }\n",
       "\n",
       "    .dataframe thead th {\n",
       "        text-align: right;\n",
       "    }\n",
       "</style>\n",
       "<table border=\"1\" class=\"dataframe\">\n",
       "  <thead>\n",
       "    <tr style=\"text-align: right;\">\n",
       "      <th></th>\n",
       "      <th>age</th>\n",
       "      <th>name</th>\n",
       "      <th>address</th>\n",
       "    </tr>\n",
       "  </thead>\n",
       "  <tbody>\n",
       "    <tr>\n",
       "      <th>0</th>\n",
       "      <td>71</td>\n",
       "      <td>name0</td>\n",
       "      <td>address0</td>\n",
       "    </tr>\n",
       "    <tr>\n",
       "      <th>1</th>\n",
       "      <td>34</td>\n",
       "      <td>name1</td>\n",
       "      <td>address1</td>\n",
       "    </tr>\n",
       "    <tr>\n",
       "      <th>2</th>\n",
       "      <td>91</td>\n",
       "      <td>name2</td>\n",
       "      <td>address2</td>\n",
       "    </tr>\n",
       "    <tr>\n",
       "      <th>3</th>\n",
       "      <td>80</td>\n",
       "      <td>name3</td>\n",
       "      <td>address3</td>\n",
       "    </tr>\n",
       "    <tr>\n",
       "      <th>4</th>\n",
       "      <td>40</td>\n",
       "      <td>name4</td>\n",
       "      <td>address4</td>\n",
       "    </tr>\n",
       "  </tbody>\n",
       "</table>\n",
       "</div>"
      ],
      "text/plain": [
       "   age   name   address\n",
       "0   71  name0  address0\n",
       "1   34  name1  address1\n",
       "2   91  name2  address2\n",
       "3   80  name3  address3\n",
       "4   40  name4  address4"
      ]
     },
     "execution_count": 1,
     "metadata": {},
     "output_type": "execute_result"
    }
   ],
   "source": [
    "import pandas as pd\n",
    "import numpy as np\n",
    "\n",
    "from pandas.api.types import is_numeric_dtype\n",
    "\n",
    "np.random.seed(42)\n",
    "age = np.random.randint(20,100,50)\n",
    "name = ['name'+str(i) for i in range(50)]\n",
    "address = ['address'+str(i) for i in range(50)]\n",
    "\n",
    "df = pd.DataFrame(data={'age':age, 'name':name, 'address':address})\n",
    "\n",
    "def remove_outlier(df):\n",
    "    low = .05\n",
    "    high = .95\n",
    "    quant_df = df.quantile([low, high])\n",
    "    for name in list(df.columns):\n",
    "        if is_numeric_dtype(df[name]):\n",
    "            df = df[(df[name] > quant_df.loc[low, name]) & (df[name] < quant_df.loc[high, name])]\n",
    "    return df\n",
    "\n",
    "remove_outlier(df).head()"
   ]
  },
  {
   "cell_type": "code",
   "execution_count": null,
   "metadata": {},
   "outputs": [],
   "source": []
  }
 ],
 "metadata": {
  "kernelspec": {
   "display_name": "Python 3.10.5 64-bit",
   "language": "python",
   "name": "python3"
  },
  "language_info": {
   "codemirror_mode": {
    "name": "ipython",
    "version": 3
   },
   "file_extension": ".py",
   "mimetype": "text/x-python",
   "name": "python",
   "nbconvert_exporter": "python",
   "pygments_lexer": "ipython3",
   "version": "3.10.5"
  },
  "orig_nbformat": 4,
  "vscode": {
   "interpreter": {
    "hash": "26de051ba29f2982a8de78e945f0abaf191376122a1563185a90213a26c5da77"
   }
  }
 },
 "nbformat": 4,
 "nbformat_minor": 2
}
