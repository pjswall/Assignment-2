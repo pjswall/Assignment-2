{
 "cells": [
  {
   "cell_type": "markdown",
   "id": "6c0cdc96",
   "metadata": {},
   "source": [
    "Exploratory Data Analysis, or EDA, is an important step in any Data Analysis or Data Science project. EDA is the process of investigating the dataset to discover patterns, and anomalies (outliers), and form hypotheses based on our understanding of the dataset."
   ]
  },
  {
   "cell_type": "code",
   "execution_count": 2,
   "id": "9e5e83c5",
   "metadata": {},
   "outputs": [],
   "source": [
    "\n",
    "import pandas as pd\n",
    "import numpy as np\n",
    "import matplotlib.pyplot as plt\n",
    "%matplotlib inline\n",
    "import seaborn as sns"
   ]
  },
  {
   "cell_type": "code",
   "execution_count": 2,
   "id": "c25fd5a3",
   "metadata": {},
   "outputs": [
    {
     "data": {
      "text/html": [
       "<div>\n",
       "<style scoped>\n",
       "    .dataframe tbody tr th:only-of-type {\n",
       "        vertical-align: middle;\n",
       "    }\n",
       "\n",
       "    .dataframe tbody tr th {\n",
       "        vertical-align: top;\n",
       "    }\n",
       "\n",
       "    .dataframe thead th {\n",
       "        text-align: right;\n",
       "    }\n",
       "</style>\n",
       "<table border=\"1\" class=\"dataframe\">\n",
       "  <thead>\n",
       "    <tr style=\"text-align: right;\">\n",
       "      <th></th>\n",
       "      <th>Pleasantness Ratings</th>\n",
       "      <th>Unnamed: 1</th>\n",
       "      <th>Unnamed: 2</th>\n",
       "      <th>Unnamed: 3</th>\n",
       "      <th>Unnamed: 4</th>\n",
       "      <th>Unnamed: 5</th>\n",
       "      <th>Unnamed: 6</th>\n",
       "      <th>Unnamed: 7</th>\n",
       "      <th>Unnamed: 8</th>\n",
       "      <th>Unnamed: 9</th>\n",
       "      <th>...</th>\n",
       "      <th>Unnamed: 20</th>\n",
       "      <th>Unnamed: 21</th>\n",
       "      <th>Unnamed: 22</th>\n",
       "      <th>Unnamed: 23</th>\n",
       "      <th>Unnamed: 24</th>\n",
       "      <th>Unnamed: 25</th>\n",
       "      <th>Unnamed: 26</th>\n",
       "      <th>Unnamed: 27</th>\n",
       "      <th>Unnamed: 28</th>\n",
       "      <th>Unnamed: 29</th>\n",
       "    </tr>\n",
       "  </thead>\n",
       "  <tbody>\n",
       "    <tr>\n",
       "      <th>0</th>\n",
       "      <td>-1</td>\n",
       "      <td>2</td>\n",
       "      <td>-1</td>\n",
       "      <td>-1</td>\n",
       "      <td>2</td>\n",
       "      <td>-1</td>\n",
       "      <td>-1</td>\n",
       "      <td>-1</td>\n",
       "      <td>4</td>\n",
       "      <td>-2</td>\n",
       "      <td>...</td>\n",
       "      <td>0</td>\n",
       "      <td>-1</td>\n",
       "      <td>1</td>\n",
       "      <td>-4</td>\n",
       "      <td>-1</td>\n",
       "      <td>2</td>\n",
       "      <td>1</td>\n",
       "      <td>-2</td>\n",
       "      <td>4</td>\n",
       "      <td>-3</td>\n",
       "    </tr>\n",
       "    <tr>\n",
       "      <th>1</th>\n",
       "      <td>-1</td>\n",
       "      <td>-3</td>\n",
       "      <td>-2</td>\n",
       "      <td>-2</td>\n",
       "      <td>-2</td>\n",
       "      <td>-3</td>\n",
       "      <td>-3</td>\n",
       "      <td>-4</td>\n",
       "      <td>-4</td>\n",
       "      <td>-2</td>\n",
       "      <td>...</td>\n",
       "      <td>-1</td>\n",
       "      <td>-2</td>\n",
       "      <td>-2</td>\n",
       "      <td>-1</td>\n",
       "      <td>-1</td>\n",
       "      <td>-4</td>\n",
       "      <td>-1</td>\n",
       "      <td>-4</td>\n",
       "      <td>-1</td>\n",
       "      <td>-4</td>\n",
       "    </tr>\n",
       "    <tr>\n",
       "      <th>2</th>\n",
       "      <td>-1</td>\n",
       "      <td>2</td>\n",
       "      <td>3</td>\n",
       "      <td>1</td>\n",
       "      <td>-2</td>\n",
       "      <td>0</td>\n",
       "      <td>-1</td>\n",
       "      <td>-1</td>\n",
       "      <td>2</td>\n",
       "      <td>-1</td>\n",
       "      <td>...</td>\n",
       "      <td>0</td>\n",
       "      <td>0</td>\n",
       "      <td>2</td>\n",
       "      <td>-1</td>\n",
       "      <td>2</td>\n",
       "      <td>-1</td>\n",
       "      <td>0</td>\n",
       "      <td>3</td>\n",
       "      <td>4</td>\n",
       "      <td>-1</td>\n",
       "    </tr>\n",
       "    <tr>\n",
       "      <th>3</th>\n",
       "      <td>-1</td>\n",
       "      <td>3</td>\n",
       "      <td>1</td>\n",
       "      <td>-1</td>\n",
       "      <td>-1</td>\n",
       "      <td>-2</td>\n",
       "      <td>-1</td>\n",
       "      <td>-1</td>\n",
       "      <td>-4</td>\n",
       "      <td>-2</td>\n",
       "      <td>...</td>\n",
       "      <td>0</td>\n",
       "      <td>0</td>\n",
       "      <td>1</td>\n",
       "      <td>-1</td>\n",
       "      <td>1</td>\n",
       "      <td>-1</td>\n",
       "      <td>-1</td>\n",
       "      <td>1</td>\n",
       "      <td>1</td>\n",
       "      <td>-3</td>\n",
       "    </tr>\n",
       "    <tr>\n",
       "      <th>4</th>\n",
       "      <td>-1</td>\n",
       "      <td>-2</td>\n",
       "      <td>3</td>\n",
       "      <td>-1</td>\n",
       "      <td>0</td>\n",
       "      <td>1</td>\n",
       "      <td>-1</td>\n",
       "      <td>1</td>\n",
       "      <td>-2</td>\n",
       "      <td>1</td>\n",
       "      <td>...</td>\n",
       "      <td>0</td>\n",
       "      <td>-1</td>\n",
       "      <td>2</td>\n",
       "      <td>1</td>\n",
       "      <td>2</td>\n",
       "      <td>-2</td>\n",
       "      <td>1</td>\n",
       "      <td>2</td>\n",
       "      <td>3</td>\n",
       "      <td>3</td>\n",
       "    </tr>\n",
       "  </tbody>\n",
       "</table>\n",
       "<p>5 rows × 30 columns</p>\n",
       "</div>"
      ],
      "text/plain": [
       "   Pleasantness Ratings  Unnamed: 1  Unnamed: 2  Unnamed: 3  Unnamed: 4  \\\n",
       "0                    -1           2          -1          -1           2   \n",
       "1                    -1          -3          -2          -2          -2   \n",
       "2                    -1           2           3           1          -2   \n",
       "3                    -1           3           1          -1          -1   \n",
       "4                    -1          -2           3          -1           0   \n",
       "\n",
       "   Unnamed: 5  Unnamed: 6  Unnamed: 7  Unnamed: 8  Unnamed: 9  ...  \\\n",
       "0          -1          -1          -1           4          -2  ...   \n",
       "1          -3          -3          -4          -4          -2  ...   \n",
       "2           0          -1          -1           2          -1  ...   \n",
       "3          -2          -1          -1          -4          -2  ...   \n",
       "4           1          -1           1          -2           1  ...   \n",
       "\n",
       "   Unnamed: 20  Unnamed: 21  Unnamed: 22  Unnamed: 23  Unnamed: 24  \\\n",
       "0            0           -1            1           -4           -1   \n",
       "1           -1           -2           -2           -1           -1   \n",
       "2            0            0            2           -1            2   \n",
       "3            0            0            1           -1            1   \n",
       "4            0           -1            2            1            2   \n",
       "\n",
       "   Unnamed: 25  Unnamed: 26  Unnamed: 27  Unnamed: 28  Unnamed: 29  \n",
       "0            2            1           -2            4           -3  \n",
       "1           -4           -1           -4           -1           -4  \n",
       "2           -1            0            3            4           -1  \n",
       "3           -1           -1            1            1           -3  \n",
       "4           -2            1            2            3            3  \n",
       "\n",
       "[5 rows x 30 columns]"
      ]
     },
     "execution_count": 2,
     "metadata": {},
     "output_type": "execute_result"
    }
   ],
   "source": [
    "## reading and displaying the data\n",
    "stud_data = pd.read_csv('C://Assignment/Likert Scale Ratings.csv') \n",
    "stud_data.head()"
   ]
  },
  {
   "cell_type": "code",
   "execution_count": 3,
   "id": "f19ec4cb",
   "metadata": {},
   "outputs": [
    {
     "data": {
      "text/plain": [
       "(110, 30)"
      ]
     },
     "execution_count": 3,
     "metadata": {},
     "output_type": "execute_result"
    }
   ],
   "source": [
    "## total rows and columns in our dataset\n",
    "stud_data.shape"
   ]
  },
  {
   "cell_type": "code",
   "execution_count": 16,
   "id": "4682d9bb",
   "metadata": {},
   "outputs": [],
   "source": [
    "def cronbach_alpha(df):\n",
    "    # 1. Transform the df into a correlation matrix\n",
    "    df_corr = df.corr()\n",
    "    \n",
    "    # 2.1 Calculate N\n",
    "    # The number of variables equals the number of columns in the df\n",
    "    N = df.shape[1]\n",
    "    \n",
    "    # 2.2 Calculate R\n",
    "    # For this, we'll loop through the columns and append every\n",
    "    # relevant correlation to an array calles \"r_s\". Then, we'll\n",
    "    # calculate the mean of \"r_s\"\n",
    "    rs = np.array([])\n",
    "    for i, col in enumerate(df_corr.columns):\n",
    "        sum_ = df_corr[col][i+1:].values\n",
    "        rs = np.append(sum_, rs)\n",
    "    mean_r = np.mean(rs)\n",
    "    \n",
    "   # 3. Use the formula to calculate Cronbach's Alpha \n",
    "    cronbach_alpha = (N * mean_r) / (1 + (N - 1) * mean_r)\n",
    "    return cronbach_alpha"
   ]
  },
  {
   "cell_type": "code",
   "execution_count": 17,
   "id": "d42b0043",
   "metadata": {},
   "outputs": [
    {
     "data": {
      "text/plain": [
       "0.9556464886481948"
      ]
     },
     "execution_count": 17,
     "metadata": {},
     "output_type": "execute_result"
    }
   ],
   "source": [
    "cronbach_alpha(stud_data)"
   ]
  },
  {
   "cell_type": "code",
   "execution_count": 28,
   "id": "3e959a3b",
   "metadata": {},
   "outputs": [
    {
     "name": "stdout",
     "output_type": "stream",
     "text": [
      "-1.0 2.0\n"
     ]
    }
   ],
   "source": [
    "q1,q3 = np.percentile(stud_data, [25, 75])\n",
    "print(q1,q3)"
   ]
  },
  {
   "cell_type": "code",
   "execution_count": 32,
   "id": "e6c3b88f",
   "metadata": {},
   "outputs": [
    {
     "data": {
      "text/plain": [
       "3.0"
      ]
     },
     "execution_count": 32,
     "metadata": {},
     "output_type": "execute_result"
    }
   ],
   "source": [
    "iqr = q3- q1 \n",
    "iqr"
   ]
  },
  {
   "cell_type": "code",
   "execution_count": 33,
   "id": "bbac489c",
   "metadata": {},
   "outputs": [
    {
     "name": "stdout",
     "output_type": "stream",
     "text": [
      "-5.5 6.5\n"
     ]
    }
   ],
   "source": [
    "lower_fence = q1 - (1.5*iqr)\n",
    "upper_fence = q3 + (1.5*iqr)\n",
    "print(lower_fence,upper_fence)"
   ]
  },
  {
   "cell_type": "code",
   "execution_count": 56,
   "id": "d251d7ae",
   "metadata": {},
   "outputs": [
    {
     "data": {
      "text/html": [
       "<div>\n",
       "<style scoped>\n",
       "    .dataframe tbody tr th:only-of-type {\n",
       "        vertical-align: middle;\n",
       "    }\n",
       "\n",
       "    .dataframe tbody tr th {\n",
       "        vertical-align: top;\n",
       "    }\n",
       "\n",
       "    .dataframe thead th {\n",
       "        text-align: right;\n",
       "    }\n",
       "</style>\n",
       "<table border=\"1\" class=\"dataframe\">\n",
       "  <thead>\n",
       "    <tr style=\"text-align: right;\">\n",
       "      <th></th>\n",
       "      <th>Pleasantness Ratings</th>\n",
       "      <th>Unnamed: 1</th>\n",
       "      <th>Unnamed: 2</th>\n",
       "      <th>Unnamed: 3</th>\n",
       "      <th>Unnamed: 4</th>\n",
       "      <th>Unnamed: 5</th>\n",
       "      <th>Unnamed: 6</th>\n",
       "      <th>Unnamed: 7</th>\n",
       "      <th>Unnamed: 8</th>\n",
       "      <th>Unnamed: 9</th>\n",
       "      <th>...</th>\n",
       "      <th>Unnamed: 20</th>\n",
       "      <th>Unnamed: 21</th>\n",
       "      <th>Unnamed: 22</th>\n",
       "      <th>Unnamed: 23</th>\n",
       "      <th>Unnamed: 24</th>\n",
       "      <th>Unnamed: 25</th>\n",
       "      <th>Unnamed: 26</th>\n",
       "      <th>Unnamed: 27</th>\n",
       "      <th>Unnamed: 28</th>\n",
       "      <th>Unnamed: 29</th>\n",
       "    </tr>\n",
       "  </thead>\n",
       "  <tbody>\n",
       "  </tbody>\n",
       "</table>\n",
       "<p>0 rows × 30 columns</p>\n",
       "</div>"
      ],
      "text/plain": [
       "Empty DataFrame\n",
       "Columns: [Pleasantness Ratings, Unnamed: 1, Unnamed: 2, Unnamed: 3, Unnamed: 4, Unnamed: 5, Unnamed: 6, Unnamed: 7, Unnamed: 8, Unnamed: 9, Unnamed: 10, Unnamed: 11, Unnamed: 12, Unnamed: 13, Unnamed: 14, Unnamed: 15, Unnamed: 16, Unnamed: 17, Unnamed: 18, Unnamed: 19, Unnamed: 20, Unnamed: 21, Unnamed: 22, Unnamed: 23, Unnamed: 24, Unnamed: 25, Unnamed: 26, Unnamed: 27, Unnamed: 28, Unnamed: 29]\n",
       "Index: []\n",
       "\n",
       "[0 rows x 30 columns]"
      ]
     },
     "execution_count": 56,
     "metadata": {},
     "output_type": "execute_result"
    }
   ],
   "source": [
    "\n",
    "def remove_outliers(stud_data):\n",
    "\n",
    "    low = 0.05\n",
    "    high = .95\n",
    "\n",
    "    quant_df = stud_data.quantile([low, high])\n",
    "\n",
    "    for name in list(stud_data.columns):\n",
    "        \n",
    "        stud_data= stud_data[(stud_data[name]> quant_df.loc[low,name]) & (stud_data[name]< quant_df.loc[high, name])]\n",
    "\n",
    "    return stud_data\n",
    "\n",
    "remove_outliers(stud_data)"
   ]
  },
  {
   "cell_type": "code",
   "execution_count": null,
   "id": "7ecee2cd",
   "metadata": {},
   "outputs": [],
   "source": [
    "def remove_outlier(df):\n",
    "    low = .05\n",
    "    high = .95\n",
    "    quant_df = df.quantile([low, high])\n",
    "    for name in list(df.columns):\n",
    "        if is_numeric_dtype(df[name]):\n",
    "            df = df[(df[name] > quant_df.loc[low, name]) & (df[name] < quant_df.loc[high, name])]\n",
    "    return df"
   ]
  },
  {
   "cell_type": "code",
   "execution_count": 45,
   "id": "700215c7",
   "metadata": {},
   "outputs": [
    {
     "data": {
      "text/plain": [
       "0.9556464886481948"
      ]
     },
     "execution_count": 45,
     "metadata": {},
     "output_type": "execute_result"
    }
   ],
   "source": [
    "cronbach_alpha(stud_data)"
   ]
  },
  {
   "cell_type": "code",
   "execution_count": null,
   "id": "02e2cfd7",
   "metadata": {},
   "outputs": [],
   "source": []
  },
  {
   "cell_type": "code",
   "execution_count": 22,
   "id": "8d779dfc",
   "metadata": {},
   "outputs": [
    {
     "data": {
      "text/html": [
       "<div>\n",
       "<style scoped>\n",
       "    .dataframe tbody tr th:only-of-type {\n",
       "        vertical-align: middle;\n",
       "    }\n",
       "\n",
       "    .dataframe tbody tr th {\n",
       "        vertical-align: top;\n",
       "    }\n",
       "\n",
       "    .dataframe thead th {\n",
       "        text-align: right;\n",
       "    }\n",
       "</style>\n",
       "<table border=\"1\" class=\"dataframe\">\n",
       "  <thead>\n",
       "    <tr style=\"text-align: right;\">\n",
       "      <th></th>\n",
       "      <th>Pleasantness Ratings</th>\n",
       "      <th>Unnamed: 1</th>\n",
       "      <th>Unnamed: 2</th>\n",
       "      <th>Unnamed: 3</th>\n",
       "      <th>Unnamed: 4</th>\n",
       "      <th>Unnamed: 5</th>\n",
       "      <th>Unnamed: 6</th>\n",
       "      <th>Unnamed: 7</th>\n",
       "      <th>Unnamed: 8</th>\n",
       "      <th>Unnamed: 9</th>\n",
       "      <th>...</th>\n",
       "      <th>Unnamed: 20</th>\n",
       "      <th>Unnamed: 21</th>\n",
       "      <th>Unnamed: 22</th>\n",
       "      <th>Unnamed: 23</th>\n",
       "      <th>Unnamed: 24</th>\n",
       "      <th>Unnamed: 25</th>\n",
       "      <th>Unnamed: 26</th>\n",
       "      <th>Unnamed: 27</th>\n",
       "      <th>Unnamed: 28</th>\n",
       "      <th>Unnamed: 29</th>\n",
       "    </tr>\n",
       "  </thead>\n",
       "  <tbody>\n",
       "  </tbody>\n",
       "</table>\n",
       "<p>0 rows × 30 columns</p>\n",
       "</div>"
      ],
      "text/plain": [
       "Empty DataFrame\n",
       "Columns: [Pleasantness Ratings, Unnamed: 1, Unnamed: 2, Unnamed: 3, Unnamed: 4, Unnamed: 5, Unnamed: 6, Unnamed: 7, Unnamed: 8, Unnamed: 9, Unnamed: 10, Unnamed: 11, Unnamed: 12, Unnamed: 13, Unnamed: 14, Unnamed: 15, Unnamed: 16, Unnamed: 17, Unnamed: 18, Unnamed: 19, Unnamed: 20, Unnamed: 21, Unnamed: 22, Unnamed: 23, Unnamed: 24, Unnamed: 25, Unnamed: 26, Unnamed: 27, Unnamed: 28, Unnamed: 29]\n",
       "Index: []\n",
       "\n",
       "[0 rows x 30 columns]"
      ]
     },
     "execution_count": 22,
     "metadata": {},
     "output_type": "execute_result"
    }
   ],
   "source": [
    "\n",
    "from pandas.api.types import is_numeric_dtype\n",
    "\n",
    "np.random.seed(42)\n",
    "age = np.random.randint(20,100,50)\n",
    "name = ['name'+str(i) for i in range(50)]\n",
    "address = ['address'+str(i) for i in range(50)]\n",
    "\n",
    "def remove_outlier(df):\n",
    "    low = .05\n",
    "    high = .95\n",
    "    quant_df = df.quantile([low, high])\n",
    "    for name in list(df.columns):\n",
    "        if is_numeric_dtype(df[name]):\n",
    "            df = df[(df[name] > quant_df.loc[low, name]) & (df[name] < quant_df.loc[high, name])]\n",
    "    return df\n",
    "\n",
    "remove_outlier(stud_data).head()"
   ]
  },
  {
   "cell_type": "code",
   "execution_count": 23,
   "id": "b1951e53",
   "metadata": {},
   "outputs": [
    {
     "data": {
      "text/plain": [
       "0.9556464886481948"
      ]
     },
     "execution_count": 23,
     "metadata": {},
     "output_type": "execute_result"
    }
   ],
   "source": [
    "cronbach_alpha(stud_data)"
   ]
  },
  {
   "cell_type": "code",
   "execution_count": 4,
   "id": "f548f949",
   "metadata": {},
   "outputs": [
    {
     "data": {
      "text/html": [
       "<div>\n",
       "<style scoped>\n",
       "    .dataframe tbody tr th:only-of-type {\n",
       "        vertical-align: middle;\n",
       "    }\n",
       "\n",
       "    .dataframe tbody tr th {\n",
       "        vertical-align: top;\n",
       "    }\n",
       "\n",
       "    .dataframe thead th {\n",
       "        text-align: right;\n",
       "    }\n",
       "</style>\n",
       "<table border=\"1\" class=\"dataframe\">\n",
       "  <thead>\n",
       "    <tr style=\"text-align: right;\">\n",
       "      <th></th>\n",
       "      <th>Pleasantness Ratings</th>\n",
       "      <th>Unnamed: 1</th>\n",
       "      <th>Unnamed: 2</th>\n",
       "      <th>Unnamed: 3</th>\n",
       "      <th>Unnamed: 4</th>\n",
       "      <th>Unnamed: 5</th>\n",
       "      <th>Unnamed: 6</th>\n",
       "      <th>Unnamed: 7</th>\n",
       "      <th>Unnamed: 8</th>\n",
       "      <th>Unnamed: 9</th>\n",
       "      <th>...</th>\n",
       "      <th>Unnamed: 20</th>\n",
       "      <th>Unnamed: 21</th>\n",
       "      <th>Unnamed: 22</th>\n",
       "      <th>Unnamed: 23</th>\n",
       "      <th>Unnamed: 24</th>\n",
       "      <th>Unnamed: 25</th>\n",
       "      <th>Unnamed: 26</th>\n",
       "      <th>Unnamed: 27</th>\n",
       "      <th>Unnamed: 28</th>\n",
       "      <th>Unnamed: 29</th>\n",
       "    </tr>\n",
       "  </thead>\n",
       "  <tbody>\n",
       "    <tr>\n",
       "      <th>count</th>\n",
       "      <td>110.000000</td>\n",
       "      <td>110.000000</td>\n",
       "      <td>110.000000</td>\n",
       "      <td>110.000000</td>\n",
       "      <td>110.000000</td>\n",
       "      <td>110.000000</td>\n",
       "      <td>110.000000</td>\n",
       "      <td>110.000000</td>\n",
       "      <td>110.000000</td>\n",
       "      <td>110.000000</td>\n",
       "      <td>...</td>\n",
       "      <td>110.000000</td>\n",
       "      <td>110.000000</td>\n",
       "      <td>110.000000</td>\n",
       "      <td>110.000000</td>\n",
       "      <td>110.000000</td>\n",
       "      <td>110.000000</td>\n",
       "      <td>110.000000</td>\n",
       "      <td>110.000000</td>\n",
       "      <td>110.000000</td>\n",
       "      <td>110.000000</td>\n",
       "    </tr>\n",
       "    <tr>\n",
       "      <th>mean</th>\n",
       "      <td>-1.081818</td>\n",
       "      <td>0.318182</td>\n",
       "      <td>0.490909</td>\n",
       "      <td>0.509091</td>\n",
       "      <td>0.072727</td>\n",
       "      <td>0.154545</td>\n",
       "      <td>-1.481818</td>\n",
       "      <td>-0.218182</td>\n",
       "      <td>1.718182</td>\n",
       "      <td>0.145455</td>\n",
       "      <td>...</td>\n",
       "      <td>0.427273</td>\n",
       "      <td>-0.645455</td>\n",
       "      <td>0.363636</td>\n",
       "      <td>0.345455</td>\n",
       "      <td>1.381818</td>\n",
       "      <td>-0.054545</td>\n",
       "      <td>0.345455</td>\n",
       "      <td>-0.554545</td>\n",
       "      <td>2.309091</td>\n",
       "      <td>-0.236364</td>\n",
       "    </tr>\n",
       "    <tr>\n",
       "      <th>std</th>\n",
       "      <td>0.779694</td>\n",
       "      <td>2.643780</td>\n",
       "      <td>2.053171</td>\n",
       "      <td>1.601292</td>\n",
       "      <td>1.304256</td>\n",
       "      <td>2.090548</td>\n",
       "      <td>1.831086</td>\n",
       "      <td>2.185783</td>\n",
       "      <td>2.995813</td>\n",
       "      <td>2.365022</td>\n",
       "      <td>...</td>\n",
       "      <td>1.371125</td>\n",
       "      <td>1.303393</td>\n",
       "      <td>1.855946</td>\n",
       "      <td>1.705019</td>\n",
       "      <td>1.723991</td>\n",
       "      <td>2.216851</td>\n",
       "      <td>1.492712</td>\n",
       "      <td>2.309082</td>\n",
       "      <td>1.851087</td>\n",
       "      <td>2.729140</td>\n",
       "    </tr>\n",
       "    <tr>\n",
       "      <th>min</th>\n",
       "      <td>-4.000000</td>\n",
       "      <td>-4.000000</td>\n",
       "      <td>-4.000000</td>\n",
       "      <td>-3.000000</td>\n",
       "      <td>-4.000000</td>\n",
       "      <td>-4.000000</td>\n",
       "      <td>-4.000000</td>\n",
       "      <td>-4.000000</td>\n",
       "      <td>-4.000000</td>\n",
       "      <td>-4.000000</td>\n",
       "      <td>...</td>\n",
       "      <td>-2.000000</td>\n",
       "      <td>-3.000000</td>\n",
       "      <td>-3.000000</td>\n",
       "      <td>-4.000000</td>\n",
       "      <td>-3.000000</td>\n",
       "      <td>-4.000000</td>\n",
       "      <td>-3.000000</td>\n",
       "      <td>-4.000000</td>\n",
       "      <td>-3.000000</td>\n",
       "      <td>-4.000000</td>\n",
       "    </tr>\n",
       "    <tr>\n",
       "      <th>25%</th>\n",
       "      <td>-1.000000</td>\n",
       "      <td>-2.000000</td>\n",
       "      <td>-1.000000</td>\n",
       "      <td>-1.000000</td>\n",
       "      <td>-0.750000</td>\n",
       "      <td>-1.000000</td>\n",
       "      <td>-3.000000</td>\n",
       "      <td>-2.000000</td>\n",
       "      <td>-0.500000</td>\n",
       "      <td>-2.000000</td>\n",
       "      <td>...</td>\n",
       "      <td>-1.000000</td>\n",
       "      <td>-2.000000</td>\n",
       "      <td>-1.000000</td>\n",
       "      <td>-1.000000</td>\n",
       "      <td>0.000000</td>\n",
       "      <td>-2.000000</td>\n",
       "      <td>-1.000000</td>\n",
       "      <td>-2.000000</td>\n",
       "      <td>2.000000</td>\n",
       "      <td>-2.000000</td>\n",
       "    </tr>\n",
       "    <tr>\n",
       "      <th>50%</th>\n",
       "      <td>-1.000000</td>\n",
       "      <td>2.000000</td>\n",
       "      <td>1.000000</td>\n",
       "      <td>1.000000</td>\n",
       "      <td>0.000000</td>\n",
       "      <td>1.000000</td>\n",
       "      <td>-2.000000</td>\n",
       "      <td>-0.500000</td>\n",
       "      <td>3.000000</td>\n",
       "      <td>1.000000</td>\n",
       "      <td>...</td>\n",
       "      <td>0.000000</td>\n",
       "      <td>-1.000000</td>\n",
       "      <td>1.000000</td>\n",
       "      <td>1.000000</td>\n",
       "      <td>2.000000</td>\n",
       "      <td>0.000000</td>\n",
       "      <td>0.500000</td>\n",
       "      <td>-1.000000</td>\n",
       "      <td>3.000000</td>\n",
       "      <td>-1.000000</td>\n",
       "    </tr>\n",
       "    <tr>\n",
       "      <th>75%</th>\n",
       "      <td>-1.000000</td>\n",
       "      <td>3.000000</td>\n",
       "      <td>2.000000</td>\n",
       "      <td>2.000000</td>\n",
       "      <td>1.000000</td>\n",
       "      <td>2.000000</td>\n",
       "      <td>-1.000000</td>\n",
       "      <td>1.000000</td>\n",
       "      <td>4.000000</td>\n",
       "      <td>2.000000</td>\n",
       "      <td>...</td>\n",
       "      <td>2.000000</td>\n",
       "      <td>0.000000</td>\n",
       "      <td>2.000000</td>\n",
       "      <td>1.750000</td>\n",
       "      <td>3.000000</td>\n",
       "      <td>2.000000</td>\n",
       "      <td>1.000000</td>\n",
       "      <td>1.000000</td>\n",
       "      <td>4.000000</td>\n",
       "      <td>2.000000</td>\n",
       "    </tr>\n",
       "    <tr>\n",
       "      <th>max</th>\n",
       "      <td>1.000000</td>\n",
       "      <td>4.000000</td>\n",
       "      <td>4.000000</td>\n",
       "      <td>3.000000</td>\n",
       "      <td>3.000000</td>\n",
       "      <td>4.000000</td>\n",
       "      <td>2.000000</td>\n",
       "      <td>4.000000</td>\n",
       "      <td>4.000000</td>\n",
       "      <td>4.000000</td>\n",
       "      <td>...</td>\n",
       "      <td>3.000000</td>\n",
       "      <td>2.000000</td>\n",
       "      <td>4.000000</td>\n",
       "      <td>4.000000</td>\n",
       "      <td>4.000000</td>\n",
       "      <td>4.000000</td>\n",
       "      <td>3.000000</td>\n",
       "      <td>4.000000</td>\n",
       "      <td>4.000000</td>\n",
       "      <td>4.000000</td>\n",
       "    </tr>\n",
       "  </tbody>\n",
       "</table>\n",
       "<p>8 rows × 30 columns</p>\n",
       "</div>"
      ],
      "text/plain": [
       "       Pleasantness Ratings  Unnamed: 1  Unnamed: 2  Unnamed: 3  Unnamed: 4  \\\n",
       "count            110.000000  110.000000  110.000000  110.000000  110.000000   \n",
       "mean              -1.081818    0.318182    0.490909    0.509091    0.072727   \n",
       "std                0.779694    2.643780    2.053171    1.601292    1.304256   \n",
       "min               -4.000000   -4.000000   -4.000000   -3.000000   -4.000000   \n",
       "25%               -1.000000   -2.000000   -1.000000   -1.000000   -0.750000   \n",
       "50%               -1.000000    2.000000    1.000000    1.000000    0.000000   \n",
       "75%               -1.000000    3.000000    2.000000    2.000000    1.000000   \n",
       "max                1.000000    4.000000    4.000000    3.000000    3.000000   \n",
       "\n",
       "       Unnamed: 5  Unnamed: 6  Unnamed: 7  Unnamed: 8  Unnamed: 9  ...  \\\n",
       "count  110.000000  110.000000  110.000000  110.000000  110.000000  ...   \n",
       "mean     0.154545   -1.481818   -0.218182    1.718182    0.145455  ...   \n",
       "std      2.090548    1.831086    2.185783    2.995813    2.365022  ...   \n",
       "min     -4.000000   -4.000000   -4.000000   -4.000000   -4.000000  ...   \n",
       "25%     -1.000000   -3.000000   -2.000000   -0.500000   -2.000000  ...   \n",
       "50%      1.000000   -2.000000   -0.500000    3.000000    1.000000  ...   \n",
       "75%      2.000000   -1.000000    1.000000    4.000000    2.000000  ...   \n",
       "max      4.000000    2.000000    4.000000    4.000000    4.000000  ...   \n",
       "\n",
       "       Unnamed: 20  Unnamed: 21  Unnamed: 22  Unnamed: 23  Unnamed: 24  \\\n",
       "count   110.000000   110.000000   110.000000   110.000000   110.000000   \n",
       "mean      0.427273    -0.645455     0.363636     0.345455     1.381818   \n",
       "std       1.371125     1.303393     1.855946     1.705019     1.723991   \n",
       "min      -2.000000    -3.000000    -3.000000    -4.000000    -3.000000   \n",
       "25%      -1.000000    -2.000000    -1.000000    -1.000000     0.000000   \n",
       "50%       0.000000    -1.000000     1.000000     1.000000     2.000000   \n",
       "75%       2.000000     0.000000     2.000000     1.750000     3.000000   \n",
       "max       3.000000     2.000000     4.000000     4.000000     4.000000   \n",
       "\n",
       "       Unnamed: 25  Unnamed: 26  Unnamed: 27  Unnamed: 28  Unnamed: 29  \n",
       "count   110.000000   110.000000   110.000000   110.000000   110.000000  \n",
       "mean     -0.054545     0.345455    -0.554545     2.309091    -0.236364  \n",
       "std       2.216851     1.492712     2.309082     1.851087     2.729140  \n",
       "min      -4.000000    -3.000000    -4.000000    -3.000000    -4.000000  \n",
       "25%      -2.000000    -1.000000    -2.000000     2.000000    -2.000000  \n",
       "50%       0.000000     0.500000    -1.000000     3.000000    -1.000000  \n",
       "75%       2.000000     1.000000     1.000000     4.000000     2.000000  \n",
       "max       4.000000     3.000000     4.000000     4.000000     4.000000  \n",
       "\n",
       "[8 rows x 30 columns]"
      ]
     },
     "execution_count": 4,
     "metadata": {},
     "output_type": "execute_result"
    }
   ],
   "source": [
    "## let us start by looking at descriptive statistic parameters for the dataset\n",
    "stud_data.describe(include='all')"
   ]
  },
  {
   "cell_type": "markdown",
   "id": "a94c8dfe",
   "metadata": {},
   "source": [
    "## Broad idea about our dataset is ::\n",
    "    1. For numerical parameters, fields like mean, standard deviation, percentiles, and  maximum have been populated. \n",
    "    2. For categorical features, count, unique, top (most frequent value), and    corresponding frequency have been populated"
   ]
  },
  {
   "cell_type": "markdown",
   "id": "1740b20c",
   "metadata": {},
   "source": [
    "## 1. Missing values"
   ]
  },
  {
   "cell_type": "code",
   "execution_count": 5,
   "id": "9fb70f04",
   "metadata": {},
   "outputs": [],
   "source": [
    "## checking for presence of null/nan values in the dataset\n",
    "# stud_data.isnull().sum()"
   ]
  },
  {
   "cell_type": "code",
   "execution_count": 19,
   "id": "4b569940",
   "metadata": {},
   "outputs": [
    {
     "data": {
      "text/plain": [
       "<AxesSubplot:>"
      ]
     },
     "execution_count": 19,
     "metadata": {},
     "output_type": "execute_result"
    },
    {
     "data": {
      "image/png": "[encoded data removed]",
      "text/plain": [
       "<Figure size 432x288 with 2 Axes>"
      ]
     },
     "metadata": {
      "needs_background": "light"
     },
     "output_type": "display_data"
    }
   ],
   "source": [
    "## Diagrammatic Approach for - checking for presence of null/nan values in the dataset\n",
    "# plt.figure(figsize=(10,10))\n",
    "sns.heatmap(stud_data.isnull())"
   ]
  },
  {
   "cell_type": "markdown",
   "id": "08d426a0",
   "metadata": {},
   "source": [
    "Fortunately for us, there are no missing values in this dataset"
   ]
  },
  {
   "cell_type": "markdown",
   "id": "5886d2ed",
   "metadata": {},
   "source": [
    "## 2. Checking the Distribution for categorical features"
   ]
  },
  {
   "cell_type": "code",
   "execution_count": 8,
   "id": "68cf8af4",
   "metadata": {},
   "outputs": [
    {
     "data": {
      "text/plain": [
       "(array([0, 1, 2, 3, 4, 5, 6, 7]),\n",
       " [Text(0, 0, '0'),\n",
       "  Text(1, 0, '1'),\n",
       "  Text(2, 0, '2'),\n",
       "  Text(3, 0, '-1'),\n",
       "  Text(4, 0, '-2'),\n",
       "  Text(5, 0, '3'),\n",
       "  Text(6, 0, '-3'),\n",
       "  Text(7, 0, '-4')])"
      ]
     },
     "execution_count": 8,
     "metadata": {},
     "output_type": "execute_result"
    },
    {
     "data": {
      "image/png": "[encoded data removed]",
      "text/plain": [
       "<Figure size 1008x648 with 4 Axes>"
      ]
     },
     "metadata": {
      "needs_background": "light"
     },
     "output_type": "display_data"
    }
   ],
   "source": [
    "## Univariate Analysis using Barplot - look at the distribution of students across\n",
    "## 1. gender\n",
    "## 2. race/ethnicity\n",
    "## 3. their lunch status, \n",
    "## 4. whether they have a test preparation course or not.\n",
    "\n",
    "plt.subplot(221)\n",
    "stud_data['Pleasantness Ratings'].value_counts().plot(kind='bar',title='Gender of students',figsize=(14,9))\n",
    "plt.xticks(rotation=0)\n",
    "\n",
    "plt.subplot(222)\n",
    "stud_data['Unnamed: 2'].value_counts().plot(kind='bar',title='Race or Ethinicity of the students')\n",
    "plt.xticks(rotation=0)\n",
    "\n",
    "plt.subplot(223)\n",
    "stud_data['Unnamed: 3'].value_counts().plot(kind='bar',title=\"'Status of lunch'\")\n",
    "plt.xticks(rotation=0)\n",
    "\n",
    "plt.subplot(224)\n",
    "stud_data['Unnamed: 4'].value_counts().plot(kind='bar',title='Test Preparation Course Status')\n",
    "plt.xticks(rotation=0)"
   ]
  },
  {
   "cell_type": "markdown",
   "id": "6d2c94cf",
   "metadata": {},
   "source": [
    "## Following inferences can be made from these plots/distribution ::\n",
    "     1. There are more girls in the school than boys. \n",
    "     2. The majority of the students belong to groups C and D. \n",
    "     3. More than 60% of the students have a standard lunch at school. \n",
    "     4. Also, more than 60% of students have not taken any test preparation course."
   ]
  },
  {
   "cell_type": "markdown",
   "id": "03aba138",
   "metadata": {},
   "source": [
    "## 3. Checking the distribution for numerical features"
   ]
  },
  {
   "cell_type": "code",
   "execution_count": 9,
   "id": "13ea6ea8",
   "metadata": {},
   "outputs": [
    {
     "data": {
      "text/plain": [
       "<seaborn.axisgrid.FacetGrid at 0x2a2cbf133d0>"
      ]
     },
     "execution_count": 9,
     "metadata": {},
     "output_type": "execute_result"
    },
    {
     "data": {
      "image/png": "[encoded data removed]",
      "text/plain": [
       "<Figure size 360x360 with 1 Axes>"
      ]
     },
     "metadata": {
      "needs_background": "light"
     },
     "output_type": "display_data"
    },
    {
     "data": {
      "image/png": "[encoded data removed]",
      "text/plain": [
       "<Figure size 360x360 with 1 Axes>"
      ]
     },
     "metadata": {
      "needs_background": "light"
     },
     "output_type": "display_data"
    },
    {
     "data": {
      "image/png": "[encoded data removed]",
      "text/plain": [
       "<Figure size 360x360 with 1 Axes>"
      ]
     },
     "metadata": {
      "needs_background": "light"
     },
     "output_type": "display_data"
    }
   ],
   "source": [
    "sns.displot(stud_data['Pleasantness Ratings'])\n",
    "sns.displot(stud_data['Unnamed: 2'])\n",
    "sns.displot(stud_data['Unnamed: 3'])\n",
    "\n",
    "## to get all three graphs inside one use sns,distplot() method as shown below:\n",
    "##sns.distplot(stud_data['math score'])\n",
    "##sns.distplot(stud_data['reading score'])\n",
    "##sns.distplot(stud_data['writing score'])"
   ]
  },
  {
   "cell_type": "markdown",
   "id": "8463478f",
   "metadata": {},
   "source": [
    "These graphs represents a perfect bell curve(Normal Distribution) closely. "
   ]
  },
  {
   "cell_type": "markdown",
   "id": "f971f8c8",
   "metadata": {},
   "source": [
    "## 4. Outliers detection - using boxplot()"
   ]
  },
  {
   "cell_type": "code",
   "execution_count": 10,
   "id": "1e62818f",
   "metadata": {},
   "outputs": [
    {
     "data": {
      "text/plain": [
       "<AxesSubplot:>"
      ]
     },
     "execution_count": 10,
     "metadata": {},
     "output_type": "execute_result"
    },
    {
     "data": {
      "image/png": "[encoded data removed]",
      "text/plain": [
       "<Figure size 864x864 with 1 Axes>"
      ]
     },
     "metadata": {
      "needs_background": "light"
     },
     "output_type": "display_data"
    }
   ],
   "source": [
    "##A boxplot helps us in visualizing the data in terms of quartiles. \n",
    "## It also identifies outliers in the dataset, if any.\n",
    "\n",
    "plt.figure(figsize=(12,12))\n",
    "stud_data.boxplot()"
   ]
  },
  {
   "cell_type": "markdown",
   "id": "dec7f529",
   "metadata": {},
   "source": [
    "These bottom circles shows that all three subject have outliers(at the bottom-side) but since its easily possible that students can get very low marks so we are not going to remove these outliers"
   ]
  },
  {
   "cell_type": "markdown",
   "id": "027989ca",
   "metadata": {},
   "source": [
    "## 5. Relationship among numerical features"
   ]
  },
  {
   "cell_type": "code",
   "execution_count": null,
   "id": "37a5980d",
   "metadata": {},
   "outputs": [],
   "source": [
    "correlation = stud_data.corr()\n",
    "correlation"
   ]
  },
  {
   "cell_type": "code",
   "execution_count": 3,
   "id": "742800a9",
   "metadata": {},
   "outputs": [
    {
     "ename": "NameError",
     "evalue": "name 'correlation' is not defined",
     "output_type": "error",
     "traceback": [
      "\u001b[1;31m---------------------------------------------------------------------------\u001b[0m",
      "\u001b[1;31mNameError\u001b[0m                                 Traceback (most recent call last)",
      "\u001b[1;32mc:\\git\\Exploratory_data_analysis3\\EDA_StudentPerformance.ipynb Cell 33\u001b[0m in \u001b[0;36m<cell line: 3>\u001b[1;34m()\u001b[0m\n\u001b[0;32m      <a href='vscode-notebook-cell:/c%3A/git/Exploratory_data_analysis3/EDA_StudentPerformance.ipynb#X44sZmlsZQ%3D%3D?line=0'>1</a>\u001b[0m \u001b[39m## heatmap for the correlation\u001b[39;00m\n\u001b[0;32m      <a href='vscode-notebook-cell:/c%3A/git/Exploratory_data_analysis3/EDA_StudentPerformance.ipynb#X44sZmlsZQ%3D%3D?line=1'>2</a>\u001b[0m plt\u001b[39m.\u001b[39mfigure(figsize\u001b[39m=\u001b[39m(\u001b[39m20\u001b[39m,\u001b[39m20\u001b[39m))\n\u001b[1;32m----> <a href='vscode-notebook-cell:/c%3A/git/Exploratory_data_analysis3/EDA_StudentPerformance.ipynb#X44sZmlsZQ%3D%3D?line=2'>3</a>\u001b[0m sns\u001b[39m.\u001b[39mheatmap(correlation,annot\u001b[39m=\u001b[39m\u001b[39mTrue\u001b[39;00m,square\u001b[39m=\u001b[39m\u001b[39mTrue\u001b[39;00m)\n\u001b[0;32m      <a href='vscode-notebook-cell:/c%3A/git/Exploratory_data_analysis3/EDA_StudentPerformance.ipynb#X44sZmlsZQ%3D%3D?line=3'>4</a>\u001b[0m plt\u001b[39m.\u001b[39myticks(rotation\u001b[39m=\u001b[39m\u001b[39m0\u001b[39m)\n\u001b[0;32m      <a href='vscode-notebook-cell:/c%3A/git/Exploratory_data_analysis3/EDA_StudentPerformance.ipynb#X44sZmlsZQ%3D%3D?line=4'>5</a>\u001b[0m plt\u001b[39m.\u001b[39mshow()\n",
      "\u001b[1;31mNameError\u001b[0m: name 'correlation' is not defined"
     ]
    },
    {
     "data": {
      "text/plain": [
       "<Figure size 1440x1440 with 0 Axes>"
      ]
     },
     "metadata": {},
     "output_type": "display_data"
    }
   ],
   "source": [
    "## heatmap for the correlation\n",
    "plt.figure(figsize=(20,20))\n",
    "sns.heatmap(correlation,annot=True,square=True)\n",
    "plt.yticks(rotation=0)\n",
    "plt.show()"
   ]
  },
  {
   "cell_type": "code",
   "execution_count": 13,
   "id": "9fe0d01e",
   "metadata": {},
   "outputs": [],
   "source": [
    "def svar(X):\n",
    "    n = float(len(X))\n",
    "    svar=(sum([(x-np.mean(X))**2 for x in X]) / n)* n/(n-1.)\n",
    "    return svar\n",
    "\n",
    "def CronbachAlpha2(itemscores):\n",
    "    itemvars = [svar(item) for item in itemscores]\n",
    "    tscores = [0] * len(itemscores[0])\n",
    "    for item in itemscores:\n",
    "       for i in range(len(item)):\n",
    "          tscores[i]+= item[i]\n",
    "    nitems = len(itemscores)\n",
    "    #print \"total scores=\", tscores, 'number of items=', nitems\n",
    "\n",
    "    Calpha=nitems/(nitems-1.) * (1-sum(itemvars)/ svar(tscores))\n",
    "\n",
    "    return Calpha"
   ]
  },
  {
   "cell_type": "code",
   "execution_count": null,
   "id": "65be0856",
   "metadata": {},
   "outputs": [],
   "source": []
  },
  {
   "cell_type": "code",
   "execution_count": 14,
   "id": "5146f0dd",
   "metadata": {},
   "outputs": [
    {
     "data": {
      "text/plain": [
       "0.9537318516391181"
      ]
     },
     "execution_count": 14,
     "metadata": {},
     "output_type": "execute_result"
    }
   ],
   "source": [
    "CronbachAlpha2([stud_data['Unnamed: 2'],stud_data['Unnamed: 3'],stud_data['Unnamed: 4'],stud_data['Unnamed: 1'],stud_data['Unnamed: 5'],stud_data['Unnamed: 6'],stud_data['Pleasantness Ratings'],stud_data['Unnamed: 7'],stud_data['Unnamed: 8'],stud_data['Unnamed: 9'],stud_data['Unnamed: 10'],stud_data['Unnamed: 11'],stud_data['Unnamed: 12'],stud_data['Unnamed: 13'],stud_data['Unnamed: 14'],stud_data['Unnamed: 15'],stud_data['Unnamed: 16'],stud_data['Unnamed: 17'],stud_data['Unnamed: 18'],stud_data['Unnamed: 19'],stud_data['Unnamed: 20'],stud_data['Unnamed: 21'],stud_data['Unnamed: 22'],stud_data['Unnamed: 23'],stud_data['Unnamed: 24'],stud_data['Unnamed: 25'],stud_data['Unnamed: 26'],stud_data['Unnamed: 27'],stud_data['Unnamed: 28'],stud_data['Unnamed: 29']])"
   ]
  },
  {
   "cell_type": "markdown",
   "id": "0ccbb83c",
   "metadata": {},
   "source": [
    "## 6. Relationship across features(i.e. with each other) "
   ]
  },
  {
   "cell_type": "code",
   "execution_count": 15,
   "id": "a6a01a87",
   "metadata": {},
   "outputs": [
    {
     "data": {
      "text/plain": [
       "<seaborn.axisgrid.FacetGrid at 0x2a2cbf12f80>"
      ]
     },
     "execution_count": 15,
     "metadata": {},
     "output_type": "execute_result"
    },
    {
     "data": {
      "text/plain": [
       "<Figure size 864x864 with 0 Axes>"
      ]
     },
     "metadata": {},
     "output_type": "display_data"
    },
    {
     "data": {
      "image/png": "[encoded data removed]",
      "text/plain": [
       "<Figure size 429x360 with 1 Axes>"
      ]
     },
     "metadata": {
      "needs_background": "light"
     },
     "output_type": "display_data"
    }
   ],
   "source": [
    "## Bivariate analysis - using relational plot\n",
    "## Relationship between the math score and the writing score of different genders.\n",
    "\n",
    "plt.figure(figsize=(12,12))\n",
    "sns.relplot(x='Pleasantness Ratings',y='Unnamed: 3',hue='Unnamed: 4',data=stud_data)\n",
    "# plt.show()"
   ]
  },
  {
   "cell_type": "markdown",
   "id": "401e8ddd",
   "metadata": {},
   "source": [
    "1. female students are more likely to have a higher writing score than male students.\n",
    "2. male students are expected to have a higher math score than female students."
   ]
  },
  {
   "cell_type": "markdown",
   "id": "4b419923",
   "metadata": {},
   "source": [
    "## Analyzing Students performance"
   ]
  },
  {
   "cell_type": "code",
   "execution_count": 31,
   "id": "8a822890",
   "metadata": {},
   "outputs": [
    {
     "data": {
      "text/plain": [
       "<AxesSubplot:>"
      ]
     },
     "execution_count": 31,
     "metadata": {},
     "output_type": "execute_result"
    },
    {
     "data": {
      "image/png": "[encoded data removed]",
      "text/plain": [
       "<Figure size 864x576 with 1 Axes>"
      ]
     },
     "metadata": {
      "needs_background": "light"
     },
     "output_type": "display_data"
    }
   ],
   "source": [
    "## let us have a look at the impact of parents’ level of education \n",
    "## on their child’s performance in school using a line plot.\n",
    "\n",
    "## LINE plot\n",
    "stud_data.groupby('Pleasantness Ratings')[['Unnamed: 3','Unnamed: 2','Unnamed: 1']].mean().T.plot(figsize=(12,8))"
   ]
  },
  {
   "cell_type": "markdown",
   "id": "b71ea361",
   "metadata": {},
   "source": [
    "It is very clear from this graph that students whose parents are more educated than others (master’s degree, bachelor’s degree, and associate’s degree) are performing better on average than students whose parents are less educated (high school). This can be a genetic difference, or simply a difference in the students’ environment at home. More educated parents are more likely to push their students towards studies"
   ]
  },
  {
   "cell_type": "code",
   "execution_count": 72,
   "id": "149a590a",
   "metadata": {},
   "outputs": [
    {
     "data": {
      "text/plain": [
       "<AxesSubplot:>"
      ]
     },
     "execution_count": 72,
     "metadata": {},
     "output_type": "execute_result"
    },
    {
     "data": {
      "image/png": "[encoded data removed]",
      "text/plain": [
       "<Figure size 864x576 with 1 Axes>"
      ]
     },
     "metadata": {
      "needs_background": "light"
     },
     "output_type": "display_data"
    }
   ],
   "source": [
    "## impact of the test preparation course on performance using a line plot\n",
    "stud_data.groupby('test preparation course')[['math score','writing score','reading score']].mean().T.plot(figsize=(12,8))"
   ]
  },
  {
   "cell_type": "code",
   "execution_count": 45,
   "id": "1c1959b8",
   "metadata": {},
   "outputs": [
    {
     "data": {
      "text/plain": [
       "<AxesSubplot:>"
      ]
     },
     "execution_count": 45,
     "metadata": {},
     "output_type": "execute_result"
    },
    {
     "data": {
      "image/png": "[encoded data removed]",
      "text/plain": [
       "<Figure size 1440x1440 with 1 Axes>"
      ]
     },
     "metadata": {
      "needs_background": "light"
     },
     "output_type": "display_data"
    }
   ],
   "source": [
    "## impact of the test preparation course on performance using a horizontal bar graph\n",
    "\n",
    "stud_data.groupby('Pleasantness Ratings')[['Unnamed: 1','Unnamed: 2','Unnamed: 4','Unnamed: 5','Unnamed: 6','Unnamed: 7','Unnamed: 8','Unnamed: 9','Unnamed: 10']].mean().T.plot(kind='barh',figsize=(20,20))"
   ]
  },
  {
   "cell_type": "markdown",
   "id": "3de881ec",
   "metadata": {},
   "source": [
    "It is very clear that students who have completed the test preparation course have performed better, on average, as compared to students who have not opted for the course."
   ]
  }
 ],
 "metadata": {
  "kernelspec": {
   "display_name": "Python 3.10.5 64-bit",
   "language": "python",
   "name": "python3"
  },
  "language_info": {
   "codemirror_mode": {
    "name": "ipython",
    "version": 3
   },
   "file_extension": ".py",
   "mimetype": "text/x-python",
   "name": "python",
   "nbconvert_exporter": "python",
   "pygments_lexer": "ipython3",
   "version": "3.10.5"
  },
  "vscode": {
   "interpreter": {
    "hash": "26de051ba29f2982a8de78e945f0abaf191376122a1563185a90213a26c5da77"
   }
  }
 },
 "nbformat": 4,
 "nbformat_minor": 5
}
